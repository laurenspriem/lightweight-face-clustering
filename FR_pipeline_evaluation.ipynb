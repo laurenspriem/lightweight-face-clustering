{
 "cells": [
  {
   "cell_type": "code",
   "execution_count": 1,
   "metadata": {},
   "outputs": [],
   "source": [
    "import numpy as np\n",
    "import pandas as pd\n",
    "import matplotlib.pyplot as plt\n",
    "import os\n",
    "from sklearn.preprocessing import LabelEncoder\n",
    "from sklearn.metrics import adjusted_rand_score, adjusted_mutual_info_score, homogeneity_completeness_v_measure\n",
    "import cv2\n",
    "os.environ['TF_CPP_MIN_LOG_LEVEL'] = '3' \n",
    "import tensorflow as tf;\n",
    "from tqdm import tqdm\n",
    "import time"
   ]
  },
  {
   "cell_type": "code",
   "execution_count": 2,
   "metadata": {},
   "outputs": [
    {
     "data": {
      "text/plain": [
       "'/home/laurens/Sync/Master Data Science and Entrepreneurship/Master DSE/Thesis/ente/Dev/own repos/Face Recognition'"
      ]
     },
     "execution_count": 2,
     "metadata": {},
     "output_type": "execute_result"
    }
   ],
   "source": [
    "path = os.getcwd()\n",
    "path"
   ]
  },
  {
   "cell_type": "code",
   "execution_count": 3,
   "metadata": {},
   "outputs": [],
   "source": [
    "# To speed up the notebook, set this value to True to skip intermediate demo steps and only run full pipeline at the end of this notebook\n",
    "skip_intermediate_demo = True"
   ]
  },
  {
   "attachments": {},
   "cell_type": "markdown",
   "metadata": {},
   "source": [
    "## Load data\n",
    "\n",
    "LFW subset locally downloaded"
   ]
  },
  {
   "cell_type": "code",
   "execution_count": 4,
   "metadata": {},
   "outputs": [],
   "source": [
    "# download full dataset\n",
    "# !download_lfw.sh"
   ]
  },
  {
   "cell_type": "code",
   "execution_count": 5,
   "metadata": {},
   "outputs": [],
   "source": [
    "use_full_dataset = False\n",
    "if use_full_dataset:\n",
    "    dataset = 'lfw_original' # crashes the kernel, try in Paperspace/LambdaLabs/Colab!\n",
    "else:\n",
    "    # dataset = 'lfw_30classes_20images'\n",
    "    dataset = 'lfw_30classes_2images'\n",
    "    # dataset = 'lfw_10images'\n",
    "data_path = path + '/data/' + dataset + '/'"
   ]
  },
  {
   "cell_type": "code",
   "execution_count": 6,
   "metadata": {},
   "outputs": [],
   "source": [
    "# Load the subset data into a NumPy array\n",
    "data = []\n",
    "original_images = []\n",
    "targets = []\n",
    "targets = []\n",
    "for subdir in os.listdir(data_path):\n",
    "    subdir_path = os.path.join(data_path, subdir)\n",
    "    if os.path.isdir(subdir_path):\n",
    "        for file in os.listdir(subdir_path):\n",
    "            file_path = os.path.join(subdir_path, file)\n",
    "            if os.path.isfile(file_path):\n",
    "                img = cv2.imread(file_path, cv2.IMREAD_COLOR)\n",
    "                RGB_img = cv2.cvtColor(img, cv2.COLOR_BGR2RGB)\n",
    "                data.append(RGB_img.flatten())\n",
    "                original_images.append(RGB_img)\n",
    "                targets.append(subdir)\n",
    "\n",
    "data = np.array(data)\n",
    "original_images = np.array(original_images)"
   ]
  },
  {
   "attachments": {},
   "cell_type": "markdown",
   "metadata": {},
   "source": [
    "### Explore data"
   ]
  },
  {
   "cell_type": "code",
   "execution_count": 7,
   "metadata": {},
   "outputs": [
    {
     "data": {
      "text/plain": [
       "(116, 250, 250, 3)"
      ]
     },
     "execution_count": 7,
     "metadata": {},
     "output_type": "execute_result"
    }
   ],
   "source": [
    "original_images.shape"
   ]
  },
  {
   "cell_type": "code",
   "execution_count": 8,
   "metadata": {},
   "outputs": [],
   "source": [
    "# introspect the images arrays to find the shapes (for plotting)\n",
    "n, w, h, c = original_images.shape\n",
    "\n",
    "# for machine learning we use the 2 data directly (as relative pixel\n",
    "# positions info is ignored by this model)\n",
    "X = data\n",
    "n_features = X.shape[1]\n",
    "\n",
    "# the label to predict is the id of the person\n",
    "target_names = targets\n",
    "target_names_unique = [target_name for target_name in set(target_names)]\n",
    "y = LabelEncoder().fit_transform(target_names.copy())\n",
    "target_names_first_index = [np.where(y == label)[0][0] for label in np.unique(y)]\n",
    "target_names_first_index.sort()\n",
    "\n",
    "n_classes = len(target_names_unique)\n",
    "\n",
    "subdir_counts = {subdir: targets.count(subdir) for subdir in set(targets)}\n",
    "n_classes_smaller_than_5 = len([count for count in subdir_counts.values() if count < 5])\n",
    "n_classes_larger_than_5 = len([count for count in subdir_counts.values() if count >= 5])\n",
    "n_classes_larger_than_10 = len([count for count in subdir_counts.values() if count >= 10])\n",
    "n_images_from_classes_smaller_than_5 = sum([count for count in subdir_counts.values() if count < 5])\n",
    "n_images_from_classes_smaller_than_10 = sum([count for count in subdir_counts.values() if count < 10])"
   ]
  },
  {
   "cell_type": "code",
   "execution_count": 48,
   "metadata": {},
   "outputs": [
    {
     "name": "stdout",
     "output_type": "stream",
     "text": [
      "Data shape: (116, 187500)\n",
      "Subdirectory counts (unordered): {'Aitor_Gonzalez': 2, 'Abdullah_al-Attiyah': 3, 'Abel_Pacheco': 4, 'Akbar_Hashemi_Rafsanjani': 3, 'Aaron_Peirsol': 4, 'Ahmet_Necdet_Sezer': 2, 'Adolfo_Rodriguez_Saa': 2, 'Abid_Hamid_Mahmud_Al-Tikriti': 3, 'Ahmad_Masood': 2, 'Aaron_Sorkin': 2, 'Aicha_El_Ouafi': 3, 'Adel_Al-Jubeir': 3, 'Abdullah_Gul': 19, 'Adam_Scott': 2, 'Adrien_Brody': 12, 'Abdel_Nasser_Assidi': 2, 'Adrian_McPherson': 2, 'Ai_Sugiyama': 5, 'Abdullatif_Sener': 2, 'Akhmed_Zakayev': 3, 'Alan_Mulally': 2, 'Abdoulaye_Wade': 4, 'Adrian_Nastase': 2, 'Ahmed_Chalabi': 5, 'Abdullah': 4, 'Alan_Ball': 2, 'Alastair_Campbell': 5, 'Adolfo_Aguilar_Zinser': 3, 'Alan_Greenspan': 5, 'Adam_Sandler': 4} \n",
      "\n",
      "There are 116 images in the dataset, 13117 less than the original dataset (of 13233).\n",
      "Each image is 250 pixels wide and 250 pixels tall, with 3 channels (RGB).\n",
      "In total this gives us 187500 features per image.\n",
      "There are 30 unique targets (classes) in the dataset, of which 24 have less than 5 images, 6 have at least five images, and 2 have at least ten images.\n",
      "There are 65 images from classes with less than five images, and 85 images from classes with less than ten images.\n"
     ]
    }
   ],
   "source": [
    "# Print the shape of the data array\n",
    "print('Data shape:', data.shape)\n",
    "\n",
    "# Print the list of subdirectories and the number of images per subdirectory\n",
    "print('Subdirectory counts (unordered):', subdir_counts,'\\n')\n",
    "\n",
    "print(f\"There are {n} images in the dataset, {13233 - n} less than the original dataset (of 13233).\")\n",
    "print(f\"Each image is {w} pixels wide and {h} pixels tall, with {c} channels (RGB).\")\n",
    "print(f\"In total this gives us {n_features} features per image.\")\n",
    "print(f\"There are {n_classes} unique targets (classes) in the dataset, of which {n_classes_smaller_than_5} have less than 5 images, {n_classes_larger_than_5} have at least five images, and {n_classes_larger_than_10} have at least ten images.\")\n",
    "print(f\"There are {n_images_from_classes_smaller_than_5} images from classes with less than five images, and {n_images_from_classes_smaller_than_10} images from classes with less than ten images.\")"
   ]
  },
  {
   "cell_type": "code",
   "execution_count": 10,
   "metadata": {},
   "outputs": [
    {
     "data": {
      "text/plain": [
       "(116, 250, 250, 3)"
      ]
     },
     "execution_count": 10,
     "metadata": {},
     "output_type": "execute_result"
    }
   ],
   "source": [
    "original_images.shape"
   ]
  },
  {
   "cell_type": "code",
   "execution_count": 11,
   "metadata": {},
   "outputs": [],
   "source": [
    "if not skip_intermediate_demo:\n",
    "    plot_images = original_images[target_names_first_index[0:10]]\n",
    "    label_array = np.array(target_names)[target_names_first_index[0:10]]\n",
    "\n",
    "    # Create a figure with a 2x5 grid of subplots\n",
    "    fig, axes = plt.subplots(2, 5, figsize=(12, 6))\n",
    "\n",
    "    # Iterate over the subplots and plot each image with its corresponding label\n",
    "    for i, ax in enumerate(axes.flat):\n",
    "        ax.imshow(plot_images[i])\n",
    "        ax.set_xticks([])\n",
    "        ax.set_yticks([])\n",
    "        ax.set_title(str(label_array[i]))\n",
    "\n",
    "    # Show the figure\n",
    "    plt.show()"
   ]
  },
  {
   "cell_type": "code",
   "execution_count": 12,
   "metadata": {},
   "outputs": [],
   "source": [
    "def plot_original_faces(indices, max_faces=None, start=0):\n",
    "    # Get the relevant images from the original_images array\n",
    "    relevant_images = original_images[indices[start:]]\n",
    "    \n",
    "    # If max_faces is set, limit the number of images to plot\n",
    "    if max_faces is not None:\n",
    "        relevant_images = relevant_images[:max_faces]\n",
    "    \n",
    "    # Determine the number of rows and columns to use in the plot\n",
    "    num_images = relevant_images.shape[0]\n",
    "    num_cols = min(num_images, 5)\n",
    "    num_rows = int(np.ceil(num_images / num_cols))\n",
    "    \n",
    "    # Create the plot and add subplots for each image\n",
    "    fig, axs = plt.subplots(num_rows, num_cols, figsize=(15, 15))\n",
    "    axs = axs.flatten()\n",
    "    for i, img in enumerate(relevant_images):\n",
    "        axs[i].imshow(img)\n",
    "        axs[i].axis('off')\n",
    "    \n",
    "    # Remove any unused subplots\n",
    "    for j in range(i+1, len(axs)):\n",
    "        fig.delaxes(axs[j])\n",
    "    \n",
    "    plt.tight_layout()\n",
    "    plt.show()"
   ]
  },
  {
   "attachments": {},
   "cell_type": "markdown",
   "metadata": {},
   "source": [
    "## Preprocess the images"
   ]
  },
  {
   "attachments": {},
   "cell_type": "markdown",
   "metadata": {},
   "source": [
    "## Face detection\n",
    "Based on BlazeFace, taken inspiration from [this repo](https://github.com/ibaiGorordo/BlazeFace-TFLite-Inference). "
   ]
  },
  {
   "cell_type": "code",
   "execution_count": 13,
   "metadata": {},
   "outputs": [],
   "source": [
    "from importlib import reload\n",
    "from src.blazeface import BlazeFace, BlazeFaceResults\n",
    "# reload(src.BlazeFace.BlazeFace)\n",
    "# reload(BlazeFaceResults)"
   ]
  },
  {
   "cell_type": "code",
   "execution_count": 14,
   "metadata": {},
   "outputs": [
    {
     "name": "stderr",
     "output_type": "stream",
     "text": [
      "INFO: Created TensorFlow Lite XNNPACK delegate for CPU.\n"
     ]
    },
    {
     "data": {
      "text/plain": [
       "[{'name': 'input_1',\n",
       "  'index': 0,\n",
       "  'shape': array([  1, 192, 192,   3], dtype=int32),\n",
       "  'shape_signature': array([  1, 192, 192,   3], dtype=int32),\n",
       "  'dtype': numpy.float32,\n",
       "  'quantization': (0.0, 0),\n",
       "  'quantization_parameters': {'scales': array([], dtype=float32),\n",
       "   'zero_points': array([], dtype=int32),\n",
       "   'quantized_dimension': 0},\n",
       "  'sparsity_parameters': {}}]"
      ]
     },
     "execution_count": 14,
     "metadata": {},
     "output_type": "execute_result"
    }
   ],
   "source": [
    "blazeface_model = BlazeFace(model_type='sparse')\n",
    "blazeface_model.input_details"
   ]
  },
  {
   "cell_type": "code",
   "execution_count": 15,
   "metadata": {},
   "outputs": [],
   "source": [
    "original_test_image = original_images[0]\n",
    "face_detection_results = blazeface_model.detect_faces(original_test_image)"
   ]
  },
  {
   "cell_type": "code",
   "execution_count": 16,
   "metadata": {},
   "outputs": [],
   "source": [
    "# import sys\n",
    "# np.set_printoptions(threshold=sys.maxsize)"
   ]
  },
  {
   "cell_type": "code",
   "execution_count": 17,
   "metadata": {},
   "outputs": [
    {
     "data": {
      "text/plain": [
       "<matplotlib.image.AxesImage at 0x7f516a4a7700>"
      ]
     },
     "execution_count": 17,
     "metadata": {},
     "output_type": "execute_result"
    },
    {
     "data": {
      "image/png": "[encoded data removed]",
      "text/plain": [
       "<Figure size 640x480 with 1 Axes>"
      ]
     },
     "metadata": {},
     "output_type": "display_data"
    }
   ],
   "source": [
    "plot_test_image = blazeface_model.draw_detections_single_image(original_test_image, face_detection_results)\n",
    "plt.imshow(plot_test_image)"
   ]
  },
  {
   "attachments": {},
   "cell_type": "markdown",
   "metadata": {},
   "source": [
    "#### Test detections"
   ]
  },
  {
   "cell_type": "code",
   "execution_count": 18,
   "metadata": {},
   "outputs": [],
   "source": [
    "if not skip_intermediate_demo:\n",
    "    blazeface_dense_model = BlazeFace(model_type='dense', score_threshold=0.6)\n",
    "\n",
    "    face_detection_results = []\n",
    "    detected_faces_count = 0\n",
    "    detected_faces_indices = []\n",
    "    undetected_faces_count = 0\n",
    "    undetected_faces_indices = []\n",
    "    double_detected_faces_count = 0\n",
    "    double_detected_faces_indices = []\n",
    "\n",
    "    for i in tqdm(range(original_images.shape[0])):\n",
    "        face_detection_results.append(blazeface_dense_model.detect_faces(original_images[i]))\n",
    "        if face_detection_results[-1].boxes.shape[0] > 0:\n",
    "            detected_faces_count += 1\n",
    "            detected_faces_indices.append(i)\n",
    "            if face_detection_results[-1].boxes.shape[0] > 1:\n",
    "                double_detected_faces_count += 1\n",
    "                double_detected_faces_indices.append(i)\n",
    "\n",
    "        else:\n",
    "            undetected_faces_count += 1\n",
    "            undetected_faces_indices.append(i)\n",
    "\n",
    "    print(f\"For the dense model:\")\n",
    "    print(f\"Detected faces: {detected_faces_count} out of {original_images.shape[0]} ({detected_faces_count/original_images.shape[0]*100:.2f}%). Undetected faces: {undetected_faces_count} out of {original_images.shape[0]} ({undetected_faces_count/original_images.shape[0]*100:.2f}%).\")\n",
    "    print(f\"Double detected faces: {double_detected_faces_count} out of {original_images.shape[0]} ({double_detected_faces_count/original_images.shape[0]*100:.2f}%).\")"
   ]
  },
  {
   "cell_type": "code",
   "execution_count": 19,
   "metadata": {},
   "outputs": [],
   "source": [
    "if not skip_intermediate_demo:\n",
    "    blazeface_model = BlazeFace(model_type='sparse', score_threshold=0.6)\n",
    "\n",
    "    face_detection_results = []\n",
    "    detected_faces_count = 0\n",
    "    detected_faces_indices = []\n",
    "    undetected_faces_count = 0\n",
    "    undetected_faces_indices = []\n",
    "    double_detected_faces_count = 0\n",
    "    double_detected_faces_indices = []\n",
    "\n",
    "    for i in tqdm(range(original_images.shape[0])):\n",
    "        face_detection_results.append(blazeface_model.detect_faces(original_images[i]))\n",
    "        if face_detection_results[-1].boxes.shape[0] > 0:\n",
    "            detected_faces_count += 1\n",
    "            detected_faces_indices.append(i)\n",
    "            if face_detection_results[-1].boxes.shape[0] > 1:\n",
    "                double_detected_faces_count += 1\n",
    "                double_detected_faces_indices.append(i)\n",
    "\n",
    "        else:\n",
    "            undetected_faces_count += 1\n",
    "            undetected_faces_indices.append(i)\n",
    "\n",
    "    print(f\"Detected faces: {detected_faces_count} out of {original_images.shape[0]} ({detected_faces_count/original_images.shape[0]*100:.2f}%). Undetected faces: {undetected_faces_count} out of {original_images.shape[0]} ({undetected_faces_count/original_images.shape[0]*100:.2f}%).\")\n",
    "    print(f\"Double detected faces: {double_detected_faces_count} out of {original_images.shape[0]} ({double_detected_faces_count/original_images.shape[0]*100:.2f}%).\")"
   ]
  },
  {
   "cell_type": "markdown",
   "metadata": {},
   "source": [
    "## Face Alignment"
   ]
  },
  {
   "cell_type": "code",
   "execution_count": 20,
   "metadata": {},
   "outputs": [],
   "source": [
    "from src.face_alignment import ArcFaceAlignment"
   ]
  },
  {
   "cell_type": "code",
   "execution_count": 21,
   "metadata": {},
   "outputs": [],
   "source": [
    "def plot_aligned_faces(aligned_face_results_list, max_faces=None, indices=None, start=0):\n",
    "    if indices is not None:\n",
    "        aligned_face_results_list = [aligned_face_results_list[i] for i in indices]\n",
    "\n",
    "    aligned_faces = [\n",
    "        face\n",
    "        for aligned_face_results in aligned_face_results_list\n",
    "        if aligned_face_results is not None\n",
    "        for face in aligned_face_results.aligned_faces\n",
    "    ]\n",
    "\n",
    "    if start > 0:\n",
    "        aligned_faces = aligned_faces[start:]\n",
    "\n",
    "    if max_faces is not None:\n",
    "        aligned_faces = aligned_faces[:max_faces]\n",
    "\n",
    "    num_faces = len(aligned_faces)\n",
    "    cols = min(5, num_faces)\n",
    "    rows = int(np.ceil(num_faces / cols))\n",
    "\n",
    "    fig, axes = plt.subplots(rows, cols, figsize=(15, 15))\n",
    "    fig.suptitle(\"Aligned Faces\", fontsize=20, y=1.02)\n",
    "\n",
    "    for i, ax in enumerate(axes.flat):\n",
    "        if i < num_faces:\n",
    "            if aligned_faces[i].shape[-1] == 3:\n",
    "                ax.imshow(aligned_faces[i].astype(np.uint8))\n",
    "            else:\n",
    "                ax.imshow(aligned_faces[i], cmap='gray')\n",
    "            ax.set_title(f\"Face {i + 1 + start}\")\n",
    "\n",
    "        ax.set_xticks([])\n",
    "        ax.set_yticks([])\n",
    "\n",
    "    plt.tight_layout()\n",
    "    plt.show()\n"
   ]
  },
  {
   "cell_type": "code",
   "execution_count": 22,
   "metadata": {},
   "outputs": [
    {
     "data": {
      "text/plain": [
       "AlignedFaceResults(\n",
       "  num_faces=1,  # Number of detected faces\n",
       "  eye_coordinates=None,  # (Left eye, Right eye)(from viewer perspective) coordinates for each face (x,y)\n",
       "  rotation_angles=None,  # Rotation angles for each face alignment\n",
       "  relative_face_sizes=[0.200704]  # Relative size of each face compared to the original image\n",
       ")"
      ]
     },
     "execution_count": 22,
     "metadata": {},
     "output_type": "execute_result"
    }
   ],
   "source": [
    "test_image = original_images[25]\n",
    "test_image_face_detection_result = blazeface_model.detect_faces(test_image)\n",
    "arcface_align = ArcFaceAlignment()\n",
    "test_image_align_result = arcface_align.crop_and_align(test_image, test_image_face_detection_result)\n",
    "image, face_detection_result = test_image, test_image_face_detection_result\n",
    "test_image_align_result"
   ]
  },
  {
   "cell_type": "code",
   "execution_count": 23,
   "metadata": {},
   "outputs": [
    {
     "data": {
      "text/plain": [
       "<matplotlib.image.AxesImage at 0x7f514c755840>"
      ]
     },
     "execution_count": 23,
     "metadata": {},
     "output_type": "execute_result"
    },
    {
     "data": {
      "image/png": "[encoded data removed]",
      "text/plain": [
       "<Figure size 640x480 with 1 Axes>"
      ]
     },
     "metadata": {},
     "output_type": "display_data"
    }
   ],
   "source": [
    "plt.imshow(test_image_align_result.aligned_faces[0])"
   ]
  },
  {
   "attachments": {},
   "cell_type": "markdown",
   "metadata": {},
   "source": [
    "## Face embeddings"
   ]
  },
  {
   "cell_type": "code",
   "execution_count": 24,
   "metadata": {},
   "outputs": [],
   "source": [
    "from src.mobilefacenet import MobileFaceNet"
   ]
  },
  {
   "cell_type": "code",
   "execution_count": 25,
   "metadata": {},
   "outputs": [],
   "source": [
    "mobilefacenet_model = MobileFaceNet(model_type=\"ente_web\")\n",
    "# mobilefacenet_quantized_model = MobileFaceNet(model_type=\"quantized\")"
   ]
  },
  {
   "cell_type": "code",
   "execution_count": 26,
   "metadata": {},
   "outputs": [
    {
     "data": {
      "text/plain": [
       "[{'name': 'input',\n",
       "  'index': 369,\n",
       "  'shape': array([  1, 112, 112,   3], dtype=int32),\n",
       "  'shape_signature': array([  1, 112, 112,   3], dtype=int32),\n",
       "  'dtype': numpy.float32,\n",
       "  'quantization': (0.0, 0),\n",
       "  'quantization_parameters': {'scales': array([], dtype=float32),\n",
       "   'zero_points': array([], dtype=int32),\n",
       "   'quantized_dimension': 0},\n",
       "  'sparsity_parameters': {}}]"
      ]
     },
     "execution_count": 26,
     "metadata": {},
     "output_type": "execute_result"
    }
   ],
   "source": [
    "mobilefacenet_model.interpreter.get_input_details()"
   ]
  },
  {
   "cell_type": "code",
   "execution_count": 27,
   "metadata": {},
   "outputs": [
    {
     "data": {
      "text/plain": [
       "[{'name': 'embeddings',\n",
       "  'index': 368,\n",
       "  'shape': array([  1, 192], dtype=int32),\n",
       "  'shape_signature': array([  1, 192], dtype=int32),\n",
       "  'dtype': numpy.float32,\n",
       "  'quantization': (0.0, 0),\n",
       "  'quantization_parameters': {'scales': array([], dtype=float32),\n",
       "   'zero_points': array([], dtype=int32),\n",
       "   'quantized_dimension': 0},\n",
       "  'sparsity_parameters': {}}]"
      ]
     },
     "execution_count": 27,
     "metadata": {},
     "output_type": "execute_result"
    }
   ],
   "source": [
    "mobilefacenet_model.interpreter.get_output_details()"
   ]
  },
  {
   "cell_type": "code",
   "execution_count": 28,
   "metadata": {},
   "outputs": [],
   "source": [
    "# run face detection and alignment/normalization on all images again\n",
    "if not skip_intermediate_demo:\n",
    "    face_detection_results = []\n",
    "    face_alignment_results = []\n",
    "    # face_normalization_results = []\n",
    "\n",
    "    for idx in tqdm(range(original_images.shape[0])):\n",
    "        image = original_images[idx]\n",
    "        face_detection_results.append(blazeface_model.detect_faces(image))\n",
    "        if face_detection_results[-1].boxes.shape[0] > 0:\n",
    "            face_alignment_results.append(arcface_align.crop_and_align(image, face_detection_results[idx]))\n",
    "            # face_normalization_results.append(face_mesh_model.normalize_faces(image, face_detection_results[idx]))\n",
    "        else:\n",
    "            face_alignment_results.append(None)\n",
    "            # face_normalization_results.append(None)"
   ]
  },
  {
   "cell_type": "code",
   "execution_count": 29,
   "metadata": {},
   "outputs": [],
   "source": [
    "# create face embeddings using MobileFaceNet model\n",
    "if not skip_intermediate_demo:\n",
    "    face_embeddings = []\n",
    "    # face_embeddings_normalized = []\n",
    "\n",
    "    for idx in tqdm(range(original_images.shape[0])):\n",
    "        if (face_alignment_results[idx] is not None): # if face was detected\n",
    "            if (face_alignment_results[idx].num_faces ==1): # if only one face was detected\n",
    "                face_embeddings.append(mobilefacenet_model.extract_embedding(face_alignment_results[idx].aligned_faces[0]))\n",
    "            else:\n",
    "                face_embeddings.append(None)\n",
    "        else:\n",
    "            face_embeddings.append(None)\n",
    "        # if (face_normalization_results[idx] is not None): # if face was detected\n",
    "        #     if (face_normalization_results[idx].num_faces ==1): # if only one face was detected\n",
    "        #         face_embeddings_normalized.append(mobilefacenet_model.extract_embedding(face_normalization_results[idx].aligned_faces[0]))\n",
    "        face_embeddings_squeezed = [array[0] if array is not None else None for array in face_embeddings] # squeeze the embeddings to remove the extra dimension"
   ]
  },
  {
   "attachments": {},
   "cell_type": "markdown",
   "metadata": {},
   "source": [
    "## Indexing the embeddings"
   ]
  },
  {
   "attachments": {},
   "cell_type": "markdown",
   "metadata": {},
   "source": [
    "### Quick approach with pandas"
   ]
  },
  {
   "cell_type": "code",
   "execution_count": 30,
   "metadata": {},
   "outputs": [],
   "source": [
    "from sklearn.metrics.pairwise import cosine_distances\n",
    "from sklearn.metrics import pairwise_distances\n",
    "from sklearn.preprocessing import normalize\n",
    "from collections import Counter"
   ]
  },
  {
   "cell_type": "code",
   "execution_count": 31,
   "metadata": {},
   "outputs": [],
   "source": [
    "if not skip_intermediate_demo:\n",
    "    face_embeddings_used = face_embeddings\n",
    "\n",
    "    # filtered_embeddings = [(idx, arr[0]) for idx, arr in enumerate(face_embeddings) if arr is not None]\n",
    "    filtered_embeddings = [(idx, arr[0]) for idx, arr in enumerate(face_embeddings_used) if arr is not None]\n",
    "\n",
    "    # Separate indices and data into two lists\n",
    "    original_indices, filtered_data_arrays = zip(*filtered_embeddings)\n",
    "    minimum_cluster_size_general = 5\n",
    "    true_labels = y[np.array(original_indices)]\n",
    "    label_counts = Counter(true_labels)\n",
    "    label_map = {label: label if count >= minimum_cluster_size_general else -1 for label, count in label_counts.items()}\n",
    "    true_labels_with_noise = np.vectorize(label_map.get)(true_labels)\n",
    "    # Create a pandas DataFrame from the data arrays\n",
    "    df_embeddings = pd.DataFrame(filtered_data_arrays)\n",
    "\n",
    "    # Add the original index column\n",
    "    df_embeddings['original_index'] = original_indices\n",
    "\n",
    "    # Calculate the cosine distance matrix\n",
    "    temp = time.time()\n",
    "    cosine_dist_matrix = cosine_distances(df_embeddings.drop(columns=['original_index'])).astype(np.float64)\n",
    "    cosine_distance_time = time.time() - temp\n",
    "    temp = time.time()\n",
    "    cosine_dist_matrix_more_precise = pairwise_distances(df_embeddings.drop(columns=['original_index']), metric='cosine').astype(np.float64)\n",
    "    cosine_pairwise_distance_time = time.time() - temp\n",
    "\n",
    "    norm_data = normalize(df_embeddings.drop(columns=['original_index']), norm='l2', axis=1)"
   ]
  },
  {
   "cell_type": "code",
   "execution_count": 32,
   "metadata": {},
   "outputs": [],
   "source": [
    "if not skip_intermediate_demo:\n",
    "    df_embeddings"
   ]
  },
  {
   "attachments": {},
   "cell_type": "markdown",
   "metadata": {},
   "source": [
    "## Clustering"
   ]
  },
  {
   "attachments": {},
   "cell_type": "markdown",
   "metadata": {},
   "source": [
    "### DBSCAN clustering"
   ]
  },
  {
   "cell_type": "code",
   "execution_count": 33,
   "metadata": {},
   "outputs": [],
   "source": [
    "from sklearn.cluster import DBSCAN\n",
    "from sklearn.metrics import pairwise_distances"
   ]
  },
  {
   "cell_type": "code",
   "execution_count": 34,
   "metadata": {},
   "outputs": [],
   "source": [
    "# Perform DBSCAN clustering\n",
    "if not skip_intermediate_demo:\n",
    "    # test parameters\n",
    "    dbscan_epsilon = 0.3\n",
    "    dbscan_min_samples = 5 \n",
    "\n",
    "    # default parameters\n",
    "    # dbscan_epsilon = 0.5 # 0.5 is default\n",
    "    # dbscan_min_samples = 5 # 5 is default (integer values only)\n",
    "\n",
    "    temp = time.time()\n",
    "    dbscan = DBSCAN(eps=dbscan_epsilon, min_samples=dbscan_min_samples, metric='precomputed')\n",
    "    cluster_labels_dbscan = dbscan.fit_predict(cosine_dist_matrix)\n",
    "    dbscan_time = time.time() - temp\n",
    "\n",
    "    # Add the cluster labels as a new column in the DataFrame\n",
    "    df_embeddings['dbscan_cluster_label'] = cluster_labels_dbscan"
   ]
  },
  {
   "cell_type": "code",
   "execution_count": 35,
   "metadata": {},
   "outputs": [],
   "source": [
    "if not skip_intermediate_demo:\n",
    "    number_clusters_dbscan = len(np.unique(cluster_labels_dbscan))-1\n",
    "    ari_dbscan = adjusted_rand_score(true_labels_with_noise, cluster_labels_dbscan)\n",
    "    ari_dbscan_exnoise = adjusted_rand_score(true_labels_with_noise[cluster_labels_dbscan != -1], cluster_labels_dbscan[cluster_labels_dbscan != -1])\n",
    "    ami_dbscan = adjusted_mutual_info_score(true_labels_with_noise, cluster_labels_dbscan)\n",
    "    ami_dbscan_exnoise = adjusted_mutual_info_score(true_labels_with_noise[cluster_labels_dbscan != -1], cluster_labels_dbscan[cluster_labels_dbscan != -1])\n",
    "    percentage_noise_dbscan = np.sum(cluster_labels_dbscan==-1)/len(cluster_labels_dbscan)*100"
   ]
  },
  {
   "cell_type": "code",
   "execution_count": 36,
   "metadata": {},
   "outputs": [],
   "source": [
    "if not skip_intermediate_demo:\n",
    "    print(f\"Results for the DBSCAN clustering:\\n\")\n",
    "\n",
    "    print(f\"Number of different clusters: {number_clusters_dbscan}\")\n",
    "    print(f\"ARI score for clustering accuracy: {ari_dbscan:.4f}\")\n",
    "    print(f\"ARI score excluding noise: {ari_dbscan_exnoise:.4f}\")\n",
    "    print(f\"AMI score for clustering accuracy: {ami_dbscan:.4f}\")\n",
    "    print(f\"AMI score excluding noise: {ami_dbscan_exnoise:.4f}\")\n",
    "    print(f\"Percentage of faces clustered into noise: {percentage_noise_dbscan:.2f}%\")\n",
    "    print(f\"Time taken for DBSCAN clustering: {dbscan_time:.2f}s\")"
   ]
  },
  {
   "cell_type": "markdown",
   "metadata": {},
   "source": [
    "To easily interpret ARI:\n",
    "The Adjusted Rand Index (ARI) measures the similarity between two clusterings, with 1 indicating a perfect match and 0 implying agreement no better than random chance. A higher ARI value signifies greater similarity between the two clusterings, while a negative value indicates the agreement is worse than random chance."
   ]
  },
  {
   "cell_type": "code",
   "execution_count": 37,
   "metadata": {},
   "outputs": [],
   "source": [
    "from sklearn.manifold import TSNE\n",
    "import matplotlib.colors as mcolors"
   ]
  },
  {
   "cell_type": "code",
   "execution_count": 38,
   "metadata": {},
   "outputs": [],
   "source": [
    "def plot_tsne_clusters(distance_matrix, labels, figsize=(10, 8), n_components=2, metric='precomputed', init='random', random_state=42, perplexity = 30.0):\n",
    "    # Perform t-SNE on the embeddings\n",
    "    tsne = TSNE(n_components=n_components, metric=metric, init=init, random_state=random_state, perplexity=perplexity)\n",
    "    embeddings_2d = tsne.fit_transform(distance_matrix)\n",
    "\n",
    "    # Add the 2D embeddings to a DataFrame\n",
    "    df_embeddings = pd.DataFrame({'x': embeddings_2d[:, 0], 'y': embeddings_2d[:, 1], 'cluster_label': labels})\n",
    "\n",
    "    # Define the colormap\n",
    "    n_clusters = len(np.unique(labels))\n",
    "    if n_clusters <= 10:\n",
    "        tab10_cmap = plt.get_cmap('tab10', np.unique(labels).size - 1)\n",
    "        tab10_cmap_list = tab10_cmap(np.linspace(0, 1, np.unique(labels).size - 1))\n",
    "        custom_cmap_list = np.vstack(([0.7, 0.7, 0.7, 1.], tab10_cmap_list))\n",
    "        cmap = mcolors.LinearSegmentedColormap.from_list('custom_cmap', custom_cmap_list)\n",
    "    else:\n",
    "        cmap = plt.get_cmap('nipy_spectral', np.unique(labels).size - 1)\n",
    "\n",
    "    # Plot the clusters\n",
    "    plt.figure(figsize=figsize)\n",
    "    scatter = plt.scatter(df_embeddings['x'], df_embeddings['y'], c=df_embeddings['cluster_label'], cmap=cmap, s=50)\n",
    "    plt.title(\"t-SNE visualization of clusters\")\n",
    "\n",
    "    # Add a legend for the cluster colors\n",
    "    if n_clusters <= 10:\n",
    "        labels = [\"noise\"] + [f\"Cluster {i}\" for i in range(1, n_clusters)]\n",
    "        handles, _ = scatter.legend_elements()\n",
    "        legend1 = plt.legend(handles, labels, loc=\"upper left\", title=\"Clusters\")\n",
    "        plt.gca().add_artist(legend1)\n",
    "    else:\n",
    "        # Only show legend for noise\n",
    "        noise_proxy = plt.scatter([], [], c='grey', s=50)\n",
    "        plt.legend([noise_proxy], [\"noise\"], loc=\"upper left\", title=\"Clusters\")\n",
    "\n",
    "    plt.show()"
   ]
  },
  {
   "cell_type": "code",
   "execution_count": 39,
   "metadata": {},
   "outputs": [],
   "source": [
    "if not skip_intermediate_demo:\n",
    "    plot_tsne_clusters(cosine_dist_matrix, df_embeddings['dbscan_cluster_label'])"
   ]
  },
  {
   "cell_type": "code",
   "execution_count": 40,
   "metadata": {},
   "outputs": [],
   "source": [
    "if not skip_intermediate_demo:\n",
    "    dbscan_noise = list(df_embeddings[df_embeddings['dbscan_cluster_label'] == -1][\"original_index\"].values)\n",
    "    print(f\"Number of faces clustered into noise: {len(dbscan_noise)} (out of {n_images_from_classes_smaller_than_5}/{n_images_from_classes_smaller_than_10} for min_samples=5/10)\")\n",
    "    plot_original_faces(dbscan_noise, max_faces=10)"
   ]
  },
  {
   "cell_type": "markdown",
   "metadata": {},
   "source": [
    "## Evaluation\n",
    "\n",
    "Now a proper evaluation using a sound protocol. \n",
    "\n",
    "Protocol:\n",
    "- More than one face detected:\n",
    "\t- Use the largest face and continue\n",
    "- No faces detected:\n",
    "\t- In that case the clustering is wrong for this image, so set to noise `-1`\n",
    "- Person in dataset has less than x (=5) images\n",
    "\t- Set the ground truth for those images to noise `-1`"
   ]
  },
  {
   "cell_type": "code",
   "execution_count": 41,
   "metadata": {},
   "outputs": [],
   "source": [
    "# Initializing all models\n",
    "blazeface_model = BlazeFace(model_type='dense', score_threshold=0.6)\n",
    "alignment_model = ArcFaceAlignment()\n",
    "embedding_model = MobileFaceNet(model_type=\"ente_web\")"
   ]
  },
  {
   "cell_type": "code",
   "execution_count": 42,
   "metadata": {},
   "outputs": [
    {
     "name": "stderr",
     "output_type": "stream",
     "text": [
      "100%|██████████| 116/116 [00:01<00:00, 62.13it/s]"
     ]
    },
    {
     "name": "stdout",
     "output_type": "stream",
     "text": [
      "For the dense model:\n",
      "Detected faces: 114 out of 116 (98.28%). Undetected faces: 2 out of 116 (1.72%).\n",
      "Double detected faces: 10 out of 116 (8.62%).\n"
     ]
    },
    {
     "name": "stderr",
     "output_type": "stream",
     "text": [
      "\n"
     ]
    }
   ],
   "source": [
    "# detection\n",
    "face_detection_results = []\n",
    "detected_faces_count = 0\n",
    "detected_faces_indices = []\n",
    "undetected_faces_count = 0\n",
    "undetected_faces_indices = []\n",
    "double_detected_faces_count = 0\n",
    "double_detected_faces_indices = []\n",
    "# alignment\n",
    "face_alignment_results = []\n",
    "# embedding\n",
    "face_embedding_results = []\n",
    "\n",
    "for i in tqdm(range(n)):\n",
    "    face_detection_results.append(blazeface_model.detect_faces(original_images[i]))\n",
    "    number_of_faces = face_detection_results[-1].get_face_count()\n",
    "    if number_of_faces > 1:\n",
    "        face_detection_results[-1] = face_detection_results[-1].get_largest_face()\n",
    "        double_detected_faces_count += 1\n",
    "        double_detected_faces_indices.append(i)\n",
    "    if number_of_faces > 0:\n",
    "        detected_faces_count += 1\n",
    "        detected_faces_indices.append(i)\n",
    "        face_alignment_results.append(alignment_model.crop_and_align(original_images[i], face_detection_results[-1]))\n",
    "        face_embedding_results.append(embedding_model.extract_embedding(face_alignment_results[-1].aligned_faces[0]))\n",
    "    else:\n",
    "        face_detection_results[-1] = None\n",
    "        face_alignment_results.append(None)\n",
    "        face_embedding_results.append(None)\n",
    "        undetected_faces_count += 1\n",
    "        undetected_faces_indices.append(i)\n",
    "face_embeddings_squeezed = [array[0] if array is not None else None for array in face_embedding_results] # squeeze the embeddings to remove the extra dimension\n",
    "\n",
    "print(f\"For the dense model:\")\n",
    "print(f\"Detected faces: {detected_faces_count} out of {original_images.shape[0]} ({detected_faces_count/original_images.shape[0]*100:.2f}%). Undetected faces: {undetected_faces_count} out of {original_images.shape[0]} ({undetected_faces_count/original_images.shape[0]*100:.2f}%).\")\n",
    "print(f\"Double detected faces: {double_detected_faces_count} out of {original_images.shape[0]} ({double_detected_faces_count/original_images.shape[0]*100:.2f}%).\")"
   ]
  },
  {
   "cell_type": "code",
   "execution_count": 51,
   "metadata": {},
   "outputs": [],
   "source": [
    "face_embeddings_used = face_embedding_results\n",
    "\n",
    "# filtered_embeddings = [(idx, arr[0]) for idx, arr in enumerate(face_embeddings) if arr is not None]\n",
    "filtered_embeddings = [(idx, arr[0]) for idx, arr in enumerate(face_embeddings_used) if arr is not None]\n",
    "\n",
    "# Separate indices and data into two lists\n",
    "original_indices, filtered_data_arrays = zip(*filtered_embeddings)\n",
    "minimum_cluster_size_general = 5\n",
    "true_labels = y[np.array(original_indices)]\n",
    "label_counts = Counter(true_labels)\n",
    "label_map = {label: label if count >= minimum_cluster_size_general else -1 for label, count in label_counts.items()}\n",
    "# create the true labels, taking into account that some classes have less than 5 images and should be considered noise\n",
    "true_labels_with_noise = np.vectorize(label_map.get)(true_labels)\n",
    "# Create a pandas DataFrame from the data arrays\n",
    "df_embeddings = pd.DataFrame(filtered_data_arrays)\n",
    "\n",
    "# Add the original index column\n",
    "df_embeddings['original_index'] = original_indices\n",
    "\n",
    "# Calculate the cosine distance matrix\n",
    "temp = time.time()\n",
    "cosine_dist_matrix = cosine_distances(df_embeddings.drop(columns=['original_index'])).astype(np.float64)\n",
    "cosine_distance_time = time.time() - temp\n",
    "temp = time.time()\n",
    "cosine_dist_matrix_more_precise = pairwise_distances(df_embeddings.drop(columns=['original_index']), metric='cosine').astype(np.float64)\n",
    "cosine_pairwise_distance_time = time.time() - temp\n",
    "\n",
    "norm_data = normalize(df_embeddings.drop(columns=['original_index']), norm='l2', axis=1)"
   ]
  },
  {
   "cell_type": "code",
   "execution_count": 52,
   "metadata": {},
   "outputs": [
    {
     "data": {
      "text/html": [
       "<div>\n",
       "<style scoped>\n",
       "    .dataframe tbody tr th:only-of-type {\n",
       "        vertical-align: middle;\n",
       "    }\n",
       "\n",
       "    .dataframe tbody tr th {\n",
       "        vertical-align: top;\n",
       "    }\n",
       "\n",
       "    .dataframe thead th {\n",
       "        text-align: right;\n",
       "    }\n",
       "</style>\n",
       "<table border=\"1\" class=\"dataframe\">\n",
       "  <thead>\n",
       "    <tr style=\"text-align: right;\">\n",
       "      <th></th>\n",
       "      <th>0</th>\n",
       "      <th>1</th>\n",
       "      <th>2</th>\n",
       "      <th>3</th>\n",
       "      <th>4</th>\n",
       "      <th>5</th>\n",
       "      <th>6</th>\n",
       "      <th>7</th>\n",
       "      <th>8</th>\n",
       "      <th>9</th>\n",
       "      <th>...</th>\n",
       "      <th>183</th>\n",
       "      <th>184</th>\n",
       "      <th>185</th>\n",
       "      <th>186</th>\n",
       "      <th>187</th>\n",
       "      <th>188</th>\n",
       "      <th>189</th>\n",
       "      <th>190</th>\n",
       "      <th>191</th>\n",
       "      <th>original_index</th>\n",
       "    </tr>\n",
       "  </thead>\n",
       "  <tbody>\n",
       "    <tr>\n",
       "      <th>0</th>\n",
       "      <td>0.000554</td>\n",
       "      <td>0.004214</td>\n",
       "      <td>0.005712</td>\n",
       "      <td>-0.003055</td>\n",
       "      <td>-0.016154</td>\n",
       "      <td>-0.065979</td>\n",
       "      <td>0.132925</td>\n",
       "      <td>0.117606</td>\n",
       "      <td>0.051986</td>\n",
       "      <td>0.049963</td>\n",
       "      <td>...</td>\n",
       "      <td>-0.003201</td>\n",
       "      <td>-0.045361</td>\n",
       "      <td>-0.058578</td>\n",
       "      <td>-0.073622</td>\n",
       "      <td>-0.062957</td>\n",
       "      <td>0.030664</td>\n",
       "      <td>0.117649</td>\n",
       "      <td>0.004715</td>\n",
       "      <td>0.002711</td>\n",
       "      <td>0</td>\n",
       "    </tr>\n",
       "    <tr>\n",
       "      <th>1</th>\n",
       "      <td>-0.011556</td>\n",
       "      <td>0.009290</td>\n",
       "      <td>0.006087</td>\n",
       "      <td>-0.004910</td>\n",
       "      <td>-0.021972</td>\n",
       "      <td>-0.092792</td>\n",
       "      <td>0.092181</td>\n",
       "      <td>0.036374</td>\n",
       "      <td>0.099115</td>\n",
       "      <td>0.067913</td>\n",
       "      <td>...</td>\n",
       "      <td>0.000814</td>\n",
       "      <td>0.028670</td>\n",
       "      <td>-0.073470</td>\n",
       "      <td>-0.045513</td>\n",
       "      <td>0.023737</td>\n",
       "      <td>0.088692</td>\n",
       "      <td>0.238267</td>\n",
       "      <td>-0.015301</td>\n",
       "      <td>-0.003293</td>\n",
       "      <td>1</td>\n",
       "    </tr>\n",
       "    <tr>\n",
       "      <th>2</th>\n",
       "      <td>-0.001928</td>\n",
       "      <td>0.006405</td>\n",
       "      <td>-0.001504</td>\n",
       "      <td>0.006276</td>\n",
       "      <td>0.001183</td>\n",
       "      <td>-0.064353</td>\n",
       "      <td>0.142866</td>\n",
       "      <td>0.007075</td>\n",
       "      <td>0.020310</td>\n",
       "      <td>0.101445</td>\n",
       "      <td>...</td>\n",
       "      <td>-0.002119</td>\n",
       "      <td>0.078464</td>\n",
       "      <td>-0.155208</td>\n",
       "      <td>-0.027239</td>\n",
       "      <td>0.027202</td>\n",
       "      <td>0.160734</td>\n",
       "      <td>0.098193</td>\n",
       "      <td>-0.010634</td>\n",
       "      <td>-0.004711</td>\n",
       "      <td>2</td>\n",
       "    </tr>\n",
       "    <tr>\n",
       "      <th>3</th>\n",
       "      <td>-0.002435</td>\n",
       "      <td>0.010301</td>\n",
       "      <td>0.001994</td>\n",
       "      <td>-0.007825</td>\n",
       "      <td>0.000500</td>\n",
       "      <td>-0.009865</td>\n",
       "      <td>0.092122</td>\n",
       "      <td>0.062065</td>\n",
       "      <td>-0.033254</td>\n",
       "      <td>0.070749</td>\n",
       "      <td>...</td>\n",
       "      <td>0.001443</td>\n",
       "      <td>0.023557</td>\n",
       "      <td>-0.180798</td>\n",
       "      <td>-0.029437</td>\n",
       "      <td>0.082128</td>\n",
       "      <td>0.139735</td>\n",
       "      <td>0.108737</td>\n",
       "      <td>-0.017248</td>\n",
       "      <td>-0.006947</td>\n",
       "      <td>3</td>\n",
       "    </tr>\n",
       "    <tr>\n",
       "      <th>4</th>\n",
       "      <td>0.004222</td>\n",
       "      <td>0.004289</td>\n",
       "      <td>-0.002656</td>\n",
       "      <td>-0.002619</td>\n",
       "      <td>0.008468</td>\n",
       "      <td>-0.025469</td>\n",
       "      <td>-0.043474</td>\n",
       "      <td>0.116519</td>\n",
       "      <td>0.020913</td>\n",
       "      <td>0.050179</td>\n",
       "      <td>...</td>\n",
       "      <td>-0.001247</td>\n",
       "      <td>0.053412</td>\n",
       "      <td>-0.241743</td>\n",
       "      <td>0.046293</td>\n",
       "      <td>0.053488</td>\n",
       "      <td>0.173413</td>\n",
       "      <td>0.162520</td>\n",
       "      <td>-0.014872</td>\n",
       "      <td>-0.013786</td>\n",
       "      <td>4</td>\n",
       "    </tr>\n",
       "    <tr>\n",
       "      <th>...</th>\n",
       "      <td>...</td>\n",
       "      <td>...</td>\n",
       "      <td>...</td>\n",
       "      <td>...</td>\n",
       "      <td>...</td>\n",
       "      <td>...</td>\n",
       "      <td>...</td>\n",
       "      <td>...</td>\n",
       "      <td>...</td>\n",
       "      <td>...</td>\n",
       "      <td>...</td>\n",
       "      <td>...</td>\n",
       "      <td>...</td>\n",
       "      <td>...</td>\n",
       "      <td>...</td>\n",
       "      <td>...</td>\n",
       "      <td>...</td>\n",
       "      <td>...</td>\n",
       "      <td>...</td>\n",
       "      <td>...</td>\n",
       "      <td>...</td>\n",
       "    </tr>\n",
       "    <tr>\n",
       "      <th>109</th>\n",
       "      <td>-0.008141</td>\n",
       "      <td>0.002107</td>\n",
       "      <td>0.012267</td>\n",
       "      <td>-0.007274</td>\n",
       "      <td>-0.021883</td>\n",
       "      <td>0.121567</td>\n",
       "      <td>-0.076765</td>\n",
       "      <td>-0.137669</td>\n",
       "      <td>-0.026377</td>\n",
       "      <td>-0.130789</td>\n",
       "      <td>...</td>\n",
       "      <td>-0.000887</td>\n",
       "      <td>-0.239965</td>\n",
       "      <td>0.132932</td>\n",
       "      <td>-0.050429</td>\n",
       "      <td>-0.025278</td>\n",
       "      <td>-0.033094</td>\n",
       "      <td>-0.114024</td>\n",
       "      <td>0.001078</td>\n",
       "      <td>0.007739</td>\n",
       "      <td>111</td>\n",
       "    </tr>\n",
       "    <tr>\n",
       "      <th>110</th>\n",
       "      <td>-0.006167</td>\n",
       "      <td>-0.001676</td>\n",
       "      <td>0.008171</td>\n",
       "      <td>-0.001604</td>\n",
       "      <td>-0.008465</td>\n",
       "      <td>0.029174</td>\n",
       "      <td>-0.049031</td>\n",
       "      <td>0.013738</td>\n",
       "      <td>-0.041850</td>\n",
       "      <td>-0.097865</td>\n",
       "      <td>...</td>\n",
       "      <td>-0.002917</td>\n",
       "      <td>-0.116029</td>\n",
       "      <td>0.238464</td>\n",
       "      <td>0.044241</td>\n",
       "      <td>-0.035497</td>\n",
       "      <td>-0.138399</td>\n",
       "      <td>-0.013825</td>\n",
       "      <td>0.005654</td>\n",
       "      <td>0.011888</td>\n",
       "      <td>112</td>\n",
       "    </tr>\n",
       "    <tr>\n",
       "      <th>111</th>\n",
       "      <td>-0.010220</td>\n",
       "      <td>-0.005198</td>\n",
       "      <td>0.006335</td>\n",
       "      <td>0.001857</td>\n",
       "      <td>-0.006183</td>\n",
       "      <td>0.129856</td>\n",
       "      <td>-0.036078</td>\n",
       "      <td>-0.116401</td>\n",
       "      <td>-0.127423</td>\n",
       "      <td>-0.194582</td>\n",
       "      <td>...</td>\n",
       "      <td>-0.003654</td>\n",
       "      <td>-0.188923</td>\n",
       "      <td>0.240939</td>\n",
       "      <td>0.004961</td>\n",
       "      <td>-0.042210</td>\n",
       "      <td>-0.051352</td>\n",
       "      <td>-0.122351</td>\n",
       "      <td>0.008779</td>\n",
       "      <td>0.015755</td>\n",
       "      <td>113</td>\n",
       "    </tr>\n",
       "    <tr>\n",
       "      <th>112</th>\n",
       "      <td>-0.012552</td>\n",
       "      <td>0.006335</td>\n",
       "      <td>0.019734</td>\n",
       "      <td>0.011923</td>\n",
       "      <td>-0.020761</td>\n",
       "      <td>0.157186</td>\n",
       "      <td>-0.002450</td>\n",
       "      <td>0.050710</td>\n",
       "      <td>-0.159501</td>\n",
       "      <td>0.050011</td>\n",
       "      <td>...</td>\n",
       "      <td>0.002571</td>\n",
       "      <td>-0.000591</td>\n",
       "      <td>-0.021809</td>\n",
       "      <td>0.068457</td>\n",
       "      <td>0.069167</td>\n",
       "      <td>-0.147171</td>\n",
       "      <td>-0.014090</td>\n",
       "      <td>-0.035351</td>\n",
       "      <td>0.004984</td>\n",
       "      <td>114</td>\n",
       "    </tr>\n",
       "    <tr>\n",
       "      <th>113</th>\n",
       "      <td>0.007813</td>\n",
       "      <td>-0.001473</td>\n",
       "      <td>0.000703</td>\n",
       "      <td>-0.000478</td>\n",
       "      <td>0.022284</td>\n",
       "      <td>0.065032</td>\n",
       "      <td>-0.091060</td>\n",
       "      <td>-0.091302</td>\n",
       "      <td>-0.159848</td>\n",
       "      <td>-0.135874</td>\n",
       "      <td>...</td>\n",
       "      <td>0.003145</td>\n",
       "      <td>-0.098784</td>\n",
       "      <td>-0.066056</td>\n",
       "      <td>0.043146</td>\n",
       "      <td>-0.057575</td>\n",
       "      <td>-0.024437</td>\n",
       "      <td>-0.089306</td>\n",
       "      <td>0.009490</td>\n",
       "      <td>0.012402</td>\n",
       "      <td>115</td>\n",
       "    </tr>\n",
       "  </tbody>\n",
       "</table>\n",
       "<p>114 rows × 193 columns</p>\n",
       "</div>"
      ],
      "text/plain": [
       "            0         1         2         3         4         5         6   \n",
       "0    0.000554  0.004214  0.005712 -0.003055 -0.016154 -0.065979  0.132925  \\\n",
       "1   -0.011556  0.009290  0.006087 -0.004910 -0.021972 -0.092792  0.092181   \n",
       "2   -0.001928  0.006405 -0.001504  0.006276  0.001183 -0.064353  0.142866   \n",
       "3   -0.002435  0.010301  0.001994 -0.007825  0.000500 -0.009865  0.092122   \n",
       "4    0.004222  0.004289 -0.002656 -0.002619  0.008468 -0.025469 -0.043474   \n",
       "..        ...       ...       ...       ...       ...       ...       ...   \n",
       "109 -0.008141  0.002107  0.012267 -0.007274 -0.021883  0.121567 -0.076765   \n",
       "110 -0.006167 -0.001676  0.008171 -0.001604 -0.008465  0.029174 -0.049031   \n",
       "111 -0.010220 -0.005198  0.006335  0.001857 -0.006183  0.129856 -0.036078   \n",
       "112 -0.012552  0.006335  0.019734  0.011923 -0.020761  0.157186 -0.002450   \n",
       "113  0.007813 -0.001473  0.000703 -0.000478  0.022284  0.065032 -0.091060   \n",
       "\n",
       "            7         8         9  ...       183       184       185   \n",
       "0    0.117606  0.051986  0.049963  ... -0.003201 -0.045361 -0.058578  \\\n",
       "1    0.036374  0.099115  0.067913  ...  0.000814  0.028670 -0.073470   \n",
       "2    0.007075  0.020310  0.101445  ... -0.002119  0.078464 -0.155208   \n",
       "3    0.062065 -0.033254  0.070749  ...  0.001443  0.023557 -0.180798   \n",
       "4    0.116519  0.020913  0.050179  ... -0.001247  0.053412 -0.241743   \n",
       "..        ...       ...       ...  ...       ...       ...       ...   \n",
       "109 -0.137669 -0.026377 -0.130789  ... -0.000887 -0.239965  0.132932   \n",
       "110  0.013738 -0.041850 -0.097865  ... -0.002917 -0.116029  0.238464   \n",
       "111 -0.116401 -0.127423 -0.194582  ... -0.003654 -0.188923  0.240939   \n",
       "112  0.050710 -0.159501  0.050011  ...  0.002571 -0.000591 -0.021809   \n",
       "113 -0.091302 -0.159848 -0.135874  ...  0.003145 -0.098784 -0.066056   \n",
       "\n",
       "          186       187       188       189       190       191   \n",
       "0   -0.073622 -0.062957  0.030664  0.117649  0.004715  0.002711  \\\n",
       "1   -0.045513  0.023737  0.088692  0.238267 -0.015301 -0.003293   \n",
       "2   -0.027239  0.027202  0.160734  0.098193 -0.010634 -0.004711   \n",
       "3   -0.029437  0.082128  0.139735  0.108737 -0.017248 -0.006947   \n",
       "4    0.046293  0.053488  0.173413  0.162520 -0.014872 -0.013786   \n",
       "..        ...       ...       ...       ...       ...       ...   \n",
       "109 -0.050429 -0.025278 -0.033094 -0.114024  0.001078  0.007739   \n",
       "110  0.044241 -0.035497 -0.138399 -0.013825  0.005654  0.011888   \n",
       "111  0.004961 -0.042210 -0.051352 -0.122351  0.008779  0.015755   \n",
       "112  0.068457  0.069167 -0.147171 -0.014090 -0.035351  0.004984   \n",
       "113  0.043146 -0.057575 -0.024437 -0.089306  0.009490  0.012402   \n",
       "\n",
       "     original_index  \n",
       "0                 0  \n",
       "1                 1  \n",
       "2                 2  \n",
       "3                 3  \n",
       "4                 4  \n",
       "..              ...  \n",
       "109             111  \n",
       "110             112  \n",
       "111             113  \n",
       "112             114  \n",
       "113             115  \n",
       "\n",
       "[114 rows x 193 columns]"
      ]
     },
     "execution_count": 52,
     "metadata": {},
     "output_type": "execute_result"
    }
   ],
   "source": [
    "df_embeddings"
   ]
  },
  {
   "cell_type": "code",
   "execution_count": 54,
   "metadata": {},
   "outputs": [],
   "source": [
    "# Perform DBSCAN clustering\n",
    "\n",
    "# test parameters\n",
    "dbscan_epsilon = 0.3\n",
    "dbscan_min_samples = minimum_cluster_size_general \n",
    "\n",
    "# default parameters\n",
    "# dbscan_epsilon = 0.5 # 0.5 is default\n",
    "# dbscan_min_samples = 5 # 5 is default (integer values only)\n",
    "\n",
    "temp = time.time()\n",
    "dbscan = DBSCAN(eps=dbscan_epsilon, min_samples=dbscan_min_samples, metric='precomputed')\n",
    "cluster_labels_dbscan = dbscan.fit_predict(cosine_dist_matrix)\n",
    "dbscan_time = time.time() - temp\n",
    "\n",
    "# Add the cluster labels as a new column in the DataFrame\n",
    "df_embeddings['dbscan_cluster_label'] = cluster_labels_dbscan"
   ]
  },
  {
   "cell_type": "code",
   "execution_count": 57,
   "metadata": {},
   "outputs": [
    {
     "data": {
      "text/plain": [
       "array([-1, -1, -1, -1, -1, 17, 17, 17, 17, 17, 17, 17, 17, 17, 17, 17, 17,\n",
       "       -1, -1, -1, -1, -1, -1, -1, -1, -1, -1, -1, -1, -1, -1, -1, -1, -1,\n",
       "       -1, -1, -1, -1, -1, -1, -1, -1, -1, -1, -1, -1, -1, -1, -1, -1, -1,\n",
       "       -1, -1, -1, -1, -1,  5,  5,  5,  5,  5,  5,  5,  5,  5,  5,  5,  5,\n",
       "        5,  5,  5,  5,  5,  5,  5, -1, -1, -1, -1, 29, 29, 29, 29, 29, 19,\n",
       "       19, 19, 19, 19, -1, -1, -1, -1, -1, -1, -1, -1, -1, -1, -1, -1, -1,\n",
       "       27, 27, 27, 27, 27, 21, 21, 21, 21, 21, -1, -1])"
      ]
     },
     "execution_count": 57,
     "metadata": {},
     "output_type": "execute_result"
    }
   ],
   "source": [
    "true_labels_with_noise"
   ]
  },
  {
   "cell_type": "code",
   "execution_count": 58,
   "metadata": {},
   "outputs": [
    {
     "data": {
      "text/plain": [
       "array([-1, -1, -1, -1, -1,  0,  0,  0,  0,  0,  0,  0,  0,  0,  0,  0,  0,\n",
       "       -1, -1, -1, -1, -1, -1, -1, -1, -1, -1, -1, -1, -1, -1, -1, -1, -1,\n",
       "       -1, -1, -1, -1, -1, -1, -1, -1, -1, -1, -1, -1, -1, -1, -1, -1, -1,\n",
       "       -1, -1, -1, -1, -1,  1,  1,  1,  1,  1,  1,  1,  1,  1,  1, -1,  1,\n",
       "        1,  1,  1,  1,  1,  1,  1, -1, -1, -1, -1, -1, -1, -1, -1, -1,  2,\n",
       "        2,  2,  2,  2, -1, -1, -1, -1, -1, -1, -1, -1, -1, -1, -1, -1, -1,\n",
       "        3,  3,  3,  3,  3,  4,  4,  4,  4,  4, -1, -1])"
      ]
     },
     "execution_count": 58,
     "metadata": {},
     "output_type": "execute_result"
    }
   ],
   "source": [
    "cluster_labels_dbscan"
   ]
  },
  {
   "cell_type": "code",
   "execution_count": 61,
   "metadata": {},
   "outputs": [],
   "source": [
    "number_clusters_dbscan = len(np.unique(cluster_labels_dbscan))-1\n",
    "ari_dbscan = adjusted_rand_score(true_labels_with_noise, cluster_labels_dbscan)\n",
    "ari_dbscan_exnoise = adjusted_rand_score(true_labels_with_noise[cluster_labels_dbscan != -1], cluster_labels_dbscan[cluster_labels_dbscan != -1])\n",
    "arr_dbscan_extruenoise = adjusted_rand_score(true_labels_with_noise[true_labels_with_noise != -1], cluster_labels_dbscan[true_labels_with_noise != -1])\n",
    "ami_dbscan = adjusted_mutual_info_score(true_labels_with_noise, cluster_labels_dbscan)\n",
    "ami_dbscan_exnoise = adjusted_mutual_info_score(true_labels_with_noise[cluster_labels_dbscan != -1], cluster_labels_dbscan[cluster_labels_dbscan != -1])\n",
    "ami_dbscan_extruenoise = adjusted_mutual_info_score(true_labels_with_noise[true_labels_with_noise != -1], cluster_labels_dbscan[true_labels_with_noise != -1])\n",
    "hcv_dbscan = homogeneity_completeness_v_measure(true_labels_with_noise, cluster_labels_dbscan)\n",
    "percentage_noise_dbscan = np.sum(cluster_labels_dbscan==-1)/len(cluster_labels_dbscan)*100"
   ]
  },
  {
   "cell_type": "code",
   "execution_count": 62,
   "metadata": {},
   "outputs": [
    {
     "data": {
      "text/plain": [
       "(0.8565539304671423, 0.9723693082905205, 0.910794652538418)"
      ]
     },
     "execution_count": 62,
     "metadata": {},
     "output_type": "execute_result"
    }
   ],
   "source": [
    "hcv_dbscan"
   ]
  },
  {
   "cell_type": "code",
   "execution_count": 63,
   "metadata": {},
   "outputs": [
    {
     "name": "stdout",
     "output_type": "stream",
     "text": [
      "Results for the DBSCAN clustering:\n",
      "\n",
      "Number of different clusters: 5\n",
      "ARI score for clustering accuracy: 0.8676\n",
      "ARI score excluding noise: 1.0000\n",
      "ARI score excluding true noise: 0.9460\n",
      "AMI score for clustering accuracy: 0.9009\n",
      "AMI score excluding noise: 1.0000\n",
      "AMI score excluding true noise: 0.9516\n",
      "Percentage of faces clustered into noise: 60.53%\n",
      "Time taken for DBSCAN clustering: 0.00s\n"
     ]
    }
   ],
   "source": [
    "print(f\"Results for the DBSCAN clustering:\\n\")\n",
    "\n",
    "print(f\"Number of different clusters: {number_clusters_dbscan}\")\n",
    "print(f\"ARI score for clustering accuracy: {ari_dbscan:.4f}\")\n",
    "print(f\"ARI score excluding noise: {ari_dbscan_exnoise:.4f}\")\n",
    "print(f\"ARI score excluding true noise: {arr_dbscan_extruenoise:.4f}\")\n",
    "print(f\"AMI score for clustering accuracy: {ami_dbscan:.4f}\")\n",
    "print(f\"AMI score excluding noise: {ami_dbscan_exnoise:.4f}\")\n",
    "print(f\"AMI score excluding true noise: {ami_dbscan_extruenoise:.4f}\")\n",
    "print(f\"Percentage of faces clustered into noise: {percentage_noise_dbscan:.2f}%\")\n",
    "print(f\"Time taken for DBSCAN clustering: {dbscan_time:.2f}s\")"
   ]
  },
  {
   "cell_type": "markdown",
   "metadata": {},
   "source": [
    "To easily interpret ARI:\n",
    "The Adjusted Rand Index (ARI) measures the similarity between two clusterings, with 1 indicating a perfect match and 0 implying agreement no better than random chance. A higher ARI value signifies greater similarity between the two clusterings, while a negative value indicates the agreement is worse than random chance."
   ]
  },
  {
   "cell_type": "code",
   "execution_count": null,
   "metadata": {},
   "outputs": [],
   "source": [
    "from sklearn.manifold import TSNE\n",
    "import matplotlib.colors as mcolors"
   ]
  },
  {
   "cell_type": "code",
   "execution_count": null,
   "metadata": {},
   "outputs": [],
   "source": [
    "def plot_tsne_clusters(distance_matrix, labels, figsize=(10, 8), n_components=2, metric='precomputed', init='random', random_state=42, perplexity = 30.0):\n",
    "    # Perform t-SNE on the embeddings\n",
    "    tsne = TSNE(n_components=n_components, metric=metric, init=init, random_state=random_state, perplexity=perplexity)\n",
    "    embeddings_2d = tsne.fit_transform(distance_matrix)\n",
    "\n",
    "    # Add the 2D embeddings to a DataFrame\n",
    "    df_embeddings = pd.DataFrame({'x': embeddings_2d[:, 0], 'y': embeddings_2d[:, 1], 'cluster_label': labels})\n",
    "\n",
    "    # Define the colormap\n",
    "    n_clusters = len(np.unique(labels))\n",
    "    if n_clusters <= 10:\n",
    "        tab10_cmap = plt.get_cmap('tab10', np.unique(labels).size - 1)\n",
    "        tab10_cmap_list = tab10_cmap(np.linspace(0, 1, np.unique(labels).size - 1))\n",
    "        custom_cmap_list = np.vstack(([0.7, 0.7, 0.7, 1.], tab10_cmap_list))\n",
    "        cmap = mcolors.LinearSegmentedColormap.from_list('custom_cmap', custom_cmap_list)\n",
    "    else:\n",
    "        cmap = plt.get_cmap('nipy_spectral', np.unique(labels).size - 1)\n",
    "\n",
    "    # Plot the clusters\n",
    "    plt.figure(figsize=figsize)\n",
    "    scatter = plt.scatter(df_embeddings['x'], df_embeddings['y'], c=df_embeddings['cluster_label'], cmap=cmap, s=50)\n",
    "    plt.title(\"t-SNE visualization of clusters\")\n",
    "\n",
    "    # Add a legend for the cluster colors\n",
    "    if n_clusters <= 10:\n",
    "        labels = [\"noise\"] + [f\"Cluster {i}\" for i in range(1, n_clusters)]\n",
    "        handles, _ = scatter.legend_elements()\n",
    "        legend1 = plt.legend(handles, labels, loc=\"upper left\", title=\"Clusters\")\n",
    "        plt.gca().add_artist(legend1)\n",
    "    else:\n",
    "        # Only show legend for noise\n",
    "        noise_proxy = plt.scatter([], [], c='grey', s=50)\n",
    "        plt.legend([noise_proxy], [\"noise\"], loc=\"upper left\", title=\"Clusters\")\n",
    "\n",
    "    plt.show()"
   ]
  },
  {
   "cell_type": "code",
   "execution_count": null,
   "metadata": {},
   "outputs": [],
   "source": [
    "if not skip_intermediate_demo:\n",
    "    plot_tsne_clusters(cosine_dist_matrix, df_embeddings['dbscan_cluster_label'])"
   ]
  },
  {
   "cell_type": "code",
   "execution_count": null,
   "metadata": {},
   "outputs": [],
   "source": [
    "if not skip_intermediate_demo:\n",
    "    dbscan_noise = list(df_embeddings[df_embeddings['dbscan_cluster_label'] == -1][\"original_index\"].values)\n",
    "    print(f\"Number of faces clustered into noise: {len(dbscan_noise)} (out of {n_images_from_classes_smaller_than_5}/{n_images_from_classes_smaller_than_10} for min_samples=5/10)\")\n",
    "    plot_original_faces(dbscan_noise, max_faces=10)"
   ]
  }
 ],
 "metadata": {
  "kernelspec": {
   "display_name": "Python 3 (ipykernel)",
   "language": "python",
   "name": "python3"
  },
  "language_info": {
   "codemirror_mode": {
    "name": "ipython",
    "version": 3
   },
   "file_extension": ".py",
   "mimetype": "text/x-python",
   "name": "python",
   "nbconvert_exporter": "python",
   "pygments_lexer": "ipython3",
   "version": "3.10.10"
  },
  "orig_nbformat": 4,
  "vscode": {
   "interpreter": {
    "hash": "5fa9909cf6832301c6b2b44f12b07c926ee1a1dd9a700423e1c9e9cf2469e7b7"
   }
  }
 },
 "nbformat": 4,
 "nbformat_minor": 2
}
