{
 "cells": [
  {
   "cell_type": "code",
   "execution_count": null,
   "metadata": {},
   "outputs": [],
   "source": [
    "import numpy as np\n",
    "import matplotlib.pyplot as plt\n",
    "import seaborn as sns"
   ]
  },
  {
   "cell_type": "code",
   "execution_count": null,
   "metadata": {},
   "outputs": [],
   "source": [
    "blazeface = np.array([770, 408, 360, 271, 276, 251, 267, 365, 391, 343, 321, 500, 302, 444, 393, 385, 396, 308, 311, 305, 302, 404, 394, 294, 280, 327, 431, 451, 279, 271])\n",
    "yolo_S_tflite = np.array([1894, 1413, 1758, 1709, 1850, 1741, 1783, 1736, 1696, 1667, 1709, 1726, 1597, 1697, 1776, 1627, 1583, 1700, 1822, 1752, 1777, 1637, 1736, 1768, 1766, 1793, 1741, 1779, 1695, 1653])\n",
    "yolo_S_onnx = np.array([791, 634, 529, 530, 541, 501, 506, 501, 512, 499, 588, 594, 573, 563, 603, 629, 615, 585, 593, 588, 568, 502, 494, 585, 579, 558, 578, 496, 496, 600])\n",
    "yolo_N_onnx = np.array([350, 178, 176, 177, 177, 182, 184, 176, 174, 175, 176, 175, 184, 175, 176, 175, 177, 187, 194, 186, 175, 176, 176, 186, 210, 184, 175, 175, 178, 178])"
   ]
  },
  {
   "cell_type": "code",
   "execution_count": null,
   "metadata": {},
   "outputs": [],
   "source": [
    "def boxplot(data, title = 'Inference Time Comparison', ylabel= 'Inference Time (ms)'):\n",
    "        sns.set(style=\"whitegrid\")  # Set a seaborn style\n",
    "        plt.figure(figsize=(10, 6))  # Adjust the size of the plot\n",
    "\n",
    "        # Create the boxplot\n",
    "        ax = sns.boxplot(data=data, width=0.5)\n",
    "\n",
    "        # Overlay with a swarmplot or stripplot for data distribution\n",
    "        sns.swarmplot(data=data, color='.25', size=5)\n",
    "\n",
    "        # Set the y-axis to start at 0\n",
    "        plt.ylim(bottom=0)\n",
    "\n",
    "        # Add mean and standard deviation annotations just above y=0\n",
    "        annotation_height = max([max(vals) for vals in data.values()]) * 0.02  # A small offset above y=0\n",
    "        for i, (key, values) in enumerate(data.items()):\n",
    "                plt.text(i, annotation_height, f'Mean: {np.mean(values):.2f}\\nSD: {np.std(values):.2f}', \n",
    "                horizontalalignment='center', size='small', color='black', weight='semibold')\n",
    "\n",
    "        plt.title(title)\n",
    "        plt.ylabel(ylabel)\n",
    "        plt.show()"
   ]
  },
  {
   "cell_type": "code",
   "execution_count": null,
   "metadata": {},
   "outputs": [],
   "source": [
    "data_blazeface_yolo = {'BlazeFace in TFLite': blazeface, 'YOLOv5Face S in TFLite': yolo_S_tflite}\n",
    "\n",
    "boxplot(data_blazeface_yolo)"
   ]
  },
  {
   "cell_type": "code",
   "execution_count": null,
   "metadata": {},
   "outputs": [],
   "source": [
    "data_tflite_onnx = {'YOLOv5Face S in ONNX': yolo_S_onnx, 'YOLOv5Face S in TFLite': yolo_S_tflite}\n",
    "boxplot(data_tflite_onnx)"
   ]
  },
  {
   "cell_type": "code",
   "execution_count": null,
   "metadata": {},
   "outputs": [],
   "source": [
    "data_yolo_S_N = {'YOLOv5Face N in ONNX': yolo_N_onnx, 'YOLOv5Face S in ONNX': yolo_S_onnx}\n",
    "boxplot(data_yolo_S_N)"
   ]
  }
 ],
 "metadata": {
  "kernelspec": {
   "display_name": "face_recognition_cpu",
   "language": "python",
   "name": "python3"
  },
  "language_info": {
   "codemirror_mode": {
    "name": "ipython",
    "version": 3
   },
   "file_extension": ".py",
   "mimetype": "text/x-python",
   "name": "python",
   "nbconvert_exporter": "python",
   "pygments_lexer": "ipython3",
   "version": "3.10.10"
  }
 },
 "nbformat": 4,
 "nbformat_minor": 2
}
